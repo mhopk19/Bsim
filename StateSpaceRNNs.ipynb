{
 "cells": [
  {
   "cell_type": "markdown",
   "id": "f895d2db",
   "metadata": {},
   "source": [
    "# State-space RNN tutorial\n",
    "\n",
    "In this module we will use Pytorch to will explore RNNs used to track state spaces"
   ]
  }
 ],
 "metadata": {
  "kernelspec": {
   "display_name": "Python 3 (ipykernel)",
   "language": "python",
   "name": "python3"
  },
  "language_info": {
   "codemirror_mode": {
    "name": "ipython",
    "version": 3
   },
   "file_extension": ".py",
   "mimetype": "text/x-python",
   "name": "python",
   "nbconvert_exporter": "python",
   "pygments_lexer": "ipython3",
   "version": "3.7.9"
  }
 },
 "nbformat": 4,
 "nbformat_minor": 5
}
