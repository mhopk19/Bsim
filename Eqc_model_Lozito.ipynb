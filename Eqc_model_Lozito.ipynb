{
 "cells": [
  {
   "cell_type": "code",
   "execution_count": 31,
   "id": "a6b3445e",
   "metadata": {},
   "outputs": [
    {
     "name": "stdout",
     "output_type": "stream",
     "text": [
      "final state of charge 0.9956730769232194\n",
      "soc [1.         0.99999808 0.99999615 ... 0.99567269 0.99567288 0.99567308]\n"
     ]
    },
    {
     "data": {
      "image/png": "[encoded data removed]",
      "text/plain": [
       "<Figure size 432x288 with 1 Axes>"
      ]
     },
     "metadata": {
      "needs_background": "light"
     },
     "output_type": "display_data"
    }
   ],
   "source": [
    "# ONLY DECENT RESULTS SEEM TO COME WHEN PARAMETERS ARE SET FOR DISCHARGE CURRENT OF 0.5A NOT VARIABLE CURRENT\n",
    "# AUTHORS ALSO DONT SEEM TO HAVE MODELED ZERO CURRENT, IDLE SCENARIOS\n",
    "\n",
    "\n",
    "import numpy as np\n",
    "import matplotlib.pyplot as plt\n",
    "import math\n",
    "\n",
    "R_ts = 0.78\n",
    "C_ts = 461\n",
    "R_tl = 15.5\n",
    "C_tl = 2141\n",
    "R_i = 0.00038\n",
    "\n",
    "\n",
    "x = np.array([0,0,1]) # state vector: current, angular velocity, angular acceleration\n",
    "duration = 10000 # time steps is 1000\n",
    "dt = 0.001 # change in time is 1ms\n",
    "# total time is 1s\n",
    "\n",
    "C_capacity = 2600\n",
    "starting_voltage = 4.2\n",
    "\n",
    "period = int(duration/4)\n",
    "i_batt = 5*np.ones((period))\n",
    "i_batt = np.hstack((i_batt, np.zeros((period))))\n",
    "i_batt = np.hstack((i_batt, np.zeros((period))))\n",
    "i_batt = np.hstack((i_batt, -0.5*np.ones((period))))\n",
    "\n",
    "def linear(p0,p1,i):\n",
    "    return p0 + p1*i\n",
    "\n",
    "def quadratic(g0,g1,g2, i):\n",
    "    return g0 + g1*i + g2*i*i\n",
    "\n",
    "def exponential(b0,b1,b2,i):\n",
    "    return b0*math.exp(-b1*i) + b2\n",
    "\n",
    "def VOC(soc, i):\n",
    "    # default parameters are for discharge current of 0.5A \n",
    "    a0 = linear(-.5527, -.205, i) #-.635\n",
    "    #a0 = -.635\n",
    "    a1 = 26.8 # constant\n",
    "    a2 = quadratic(.418, -.023, .109, i) \n",
    "    #a2 = .314\n",
    "    a3 = quadratic(-1.57, -1.23, .36, i) \n",
    "    #a3 = -2.02\n",
    "    a4 = -1.27 # indeterminant\n",
    "    a5 = 7.2 # indeterminant\n",
    "    return a0 * math.exp(-a1*soc) + a2*math.pow(soc,3) + a3*math.pow(soc,2) + a4*soc + a5\n",
    "    \n",
    "    \n",
    "\n",
    "def create_A(i):\n",
    "    # i is applied current\n",
    "    R_ts = exponential(1.32, 2.06, .14, i)\n",
    "    C_ts = linear(461.2, -7.03, i)\n",
    "    R_tl = quadratic(36.4, -29.3, 8.43, i)\n",
    "    A = np.array([[-1/(R_ts * C_ts) ,       0,              0],\n",
    "                  [0                ,       -1/(R_tl*C_tl), 0],\n",
    "                  [0                ,       0,              0]])\n",
    "    return A\n",
    "\n",
    "v_batt = np.array([0])\n",
    "x_hist = x\n",
    "for i in range(duration):\n",
    "    A = create_A(i_batt[i])\n",
    "    C_ts = linear(461.2, -7.03, i)\n",
    "    dx = A @ x + np.array([1/C_ts, 1/C_tl, -1/C_capacity]) * i_batt[i]\n",
    "    x = x + dx * dt\n",
    "    x_hist = np.vstack((x_hist,x))\n",
    "    v_batt = np.vstack((v_batt, VOC(x[2], i_batt[i]) - R_i*i_batt[i] - x[0] - x[1] ))\n",
    "\n",
    "print(\"final state of charge\", x[2])\n",
    "print(\"soc\", x_hist[:,2])\n",
    "plt.plot(range(len(x_hist[:,0])), x_hist[:,0], 'b')\n",
    "plt.plot(range(len(x_hist[:,0])), x_hist[:,1], 'r')\n",
    "plt.plot(range(len(x_hist[:,0])), x_hist[:,2], 'y')\n",
    "plt.plot(range(len(i_batt)), i_batt, 'k')\n",
    "plt.plot(range(len(v_batt)), v_batt, 'g')\n",
    "plt.title(\"Battery Equivalent Circuit \")\n",
    "plt.ylabel(\"[A]/[V]/[0-1%]\")\n",
    "plt.legend([r'$V_{ts}$',r'$V_{tl}$',\"SOC\",r'$i_{batt}$',r'$v_{batt}$'])\n",
    "plt.xlabel(\"Time (ms)\")\n",
    "plt.show()"
   ]
  },
  {
   "cell_type": "code",
   "execution_count": null,
   "id": "eb4b6774",
   "metadata": {},
   "outputs": [],
   "source": []
  },
  {
   "cell_type": "code",
   "execution_count": null,
   "id": "2b87f40b",
   "metadata": {},
   "outputs": [],
   "source": []
  }
 ],
 "metadata": {
  "kernelspec": {
   "display_name": "Python 3 (ipykernel)",
   "language": "python",
   "name": "python3"
  },
  "language_info": {
   "codemirror_mode": {
    "name": "ipython",
    "version": 3
   },
   "file_extension": ".py",
   "mimetype": "text/x-python",
   "name": "python",
   "nbconvert_exporter": "python",
   "pygments_lexer": "ipython3",
   "version": "3.7.9"
  }
 },
 "nbformat": 4,
 "nbformat_minor": 5
}
